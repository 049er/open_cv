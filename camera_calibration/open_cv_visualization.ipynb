{
 "cells": [
  {
   "cell_type": "code",
   "execution_count": 30,
   "metadata": {},
   "outputs": [],
   "source": [
    "#Sources \n",
    "\n",
    "# https://en.wikipedia.org/wiki/Rotation_matrix\n",
    "# https://docs.opencv.org/3.4/d4/d94/tutorial_camera_calibration.html\n",
    "# \n",
    "\n",
    "\n",
    "import numpy as np\n",
    "import math as m\n",
    "import matplotlib.pyplot as plt\n",
    "import os\n",
    "\n",
    "np.set_printoptions(suppress=True,\n",
    "                    formatter={'float_kind': '{:f},'.format})"
   ]
  },
  {
   "cell_type": "code",
   "execution_count": 31,
   "metadata": {},
   "outputs": [
    {
     "data": {
      "image/png": "[encoded data removed]",
      "text/plain": [
       "<Figure size 345.6x614.4 with 1 Axes>"
      ]
     },
     "metadata": {
      "needs_background": "light"
     },
     "output_type": "display_data"
    },
    {
     "name": "stdout",
     "output_type": "stream",
     "text": [
      "[270.422555, 562.348305,]\n",
      "[429.176176, 562.348305,]\n",
      "[445.051538, 736.661451,]\n",
      "[254.547193, 736.661451,]\n",
      "[270.422555, 562.348305,]\n",
      "\n",
      "\n"
     ]
    }
   ],
   "source": [
    "image_info =  np.loadtxt(fname= os.getcwd() +  '/storage/image_info.txt', delimiter=',')\n",
    "w = image_info[0]\n",
    "h = image_info[1]\n",
    "\n",
    "image_points = [\n",
    "    np.array([0, 0]),\n",
    "    np.array([w, 0]),\n",
    "    np.array([w, h]),\n",
    "    np.array([0, h]),\n",
    "    np.array([0, 0]),\n",
    "]\n",
    "\n",
    "\n",
    "opencv_mtx = np.loadtxt(fname= os.getcwd() + '/storage/opencv_matrix.txt', delimiter=',')\n",
    "\n",
    "xpos = 0.0\n",
    "ypos = 0.0\n",
    "\n",
    "xrot = 45    #degrees\n",
    "yrot = 0    #degrees\n",
    "\n",
    "xrad = xrot * m.pi/180\n",
    "yrad = yrot * m.pi/180\n",
    "\n",
    "cx = 0.2/m.cos(xrad)\n",
    "cy = 0.2/m.cos(yrad)\n",
    "\n",
    "ax = m.sqrt(m.pow(cx,2)-m.pow(0.2,2))\n",
    "ay = m.sqrt(m.pow(cy,2)-m.pow(0.2,2))\n",
    "\n",
    "if(xrot < 0):\n",
    "    ax = -ax\n",
    "\n",
    "if(yrot < 0):\n",
    "    ay = -ay\n",
    "\n",
    "world_points = [\n",
    "    [\n",
    "        np.array([-0.1 + xpos, -0.1 + ypos, 1.0 + ax]),  #bottom left\n",
    "        np.array([0.1 + xpos, -0.1 + ypos, 1.0 + ax]),   #bottom right\n",
    "        np.array([0.1 + xpos, 0.1 + ypos, 1.0]),    #top right \n",
    "        np.array([-0.1 + xpos, 0.1 + ypos, 1.0])    #top left\n",
    "    ],\n",
    "]\n",
    "\n",
    "screen_points = []\n",
    "\n",
    "for set in world_points:\n",
    "    point_set = []\n",
    "    for p in set:\n",
    "        screen_point = opencv_mtx.dot(p)/p[2]\n",
    "        point_set.append(np.array([screen_point[0], screen_point[1]]))\n",
    "    point_set.append(point_set[0])\n",
    "    screen_points.append(point_set)\n",
    "   \n",
    "# print('opencv_mtx= ', opencv_mtx, '\\n')\n",
    "# print(screen_points)\n",
    "\n",
    "xs, ys = zip(*image_points) #create lists of x and y values\n",
    "\n",
    "\n",
    "scale = 150\n",
    "\n",
    "plt.figure(figsize=(w/scale,h/scale))\n",
    "plt.plot(xs,ys)\n",
    "\n",
    "for set in screen_points:\n",
    "    xs1, ys1 = zip(*set)\n",
    "    plt.plot(xs1,ys1)  \n",
    "\n",
    "plt.show() # if you need...\n",
    "\n",
    "for set in screen_points:\n",
    "    for p in set:\n",
    "        print(p)\n",
    "    print('\\n')"
   ]
  }
 ],
 "metadata": {
  "kernelspec": {
   "display_name": "Python 3.9.12 ('base')",
   "language": "python",
   "name": "python3"
  },
  "language_info": {
   "codemirror_mode": {
    "name": "ipython",
    "version": 3
   },
   "file_extension": ".py",
   "mimetype": "text/x-python",
   "name": "python",
   "nbconvert_exporter": "python",
   "pygments_lexer": "ipython3",
   "version": "3.9.12"
  },
  "orig_nbformat": 4,
  "vscode": {
   "interpreter": {
    "hash": "0fb525d995e0958798e36914dbbeebf9776adb9826b1870f56d9f091777d3cbd"
   }
  }
 },
 "nbformat": 4,
 "nbformat_minor": 2
}
