{
 "cells": [
  {
   "cell_type": "code",
   "execution_count": 20,
   "metadata": {},
   "outputs": [],
   "source": [
    "#   Converting Camera Matrix (openCV) to openGl\n",
    "#   Sources:\n",
    "#   http://www.info.hiroshima-cu.ac.jp/~miyazaki/knowledge/teche0092.html\n",
    "#   https://fruty.io/2019/08/29/augmented-reality-with-opencv-and-opengl-the-tricky-projection-matrix/\n",
    "\n",
    "import numpy as np\n",
    "import matplotlib.pyplot as plt\n",
    "import os\n",
    "from functions import compare_projections\n",
    "from functions import project_opencv\n",
    "from functions import project_opengl\n",
    "\n",
    "np.set_printoptions(suppress=True,\n",
    "                    formatter={'float_kind': '{:f},'.format})"
   ]
  },
  {
   "cell_type": "code",
   "execution_count": 21,
   "metadata": {},
   "outputs": [
    {
     "name": "stdout",
     "output_type": "stream",
     "text": [
      "OpenCV Matrix\n",
      "[[950.967844, 0.000000, 358.023052,]\n",
      " [0.000000, 950.145663, 643.970167,]\n",
      " [0.000000, 0.000000, 1.000000,]] \n",
      "\n",
      "OpenGL Matrix\n",
      "[[2.641577, 0.000000, 0.005492, 0.000000,]\n",
      " [0.000000, -1.484603, -0.006203, 0.000000,]\n",
      " [0.000000, 0.000000, -1.222222, -22.222222,]\n",
      " [0.000000, 0.000000, -1.000000, 0.000000,]] \n",
      "\n",
      "Image Properties\n",
      "width :  720.0\n",
      "height:  1280.0 \n",
      "\n"
     ]
    }
   ],
   "source": [
    "# Camera Matrix (OpenCV)\n",
    "\n",
    "camera_mtx = np.loadtxt(fname= os.getcwd() +  '/storage/opencv_matrix.txt', delimiter=',')\n",
    "\n",
    "info =  np.loadtxt(fname= os.getcwd() + '/storage/image_info.txt', delimiter=',')\n",
    "\n",
    "cx = camera_mtx[0][2]\n",
    "cy = camera_mtx[1][2]\n",
    "\n",
    "fx = camera_mtx[0][0]\n",
    "fy = camera_mtx[1][1]\n",
    "\n",
    "w = info[0]\n",
    "h = info[1]\n",
    "\n",
    "near = 10\n",
    "far = 100\n",
    "\n",
    "opengl_mtx = np.array([\n",
    "    [2*fx/w, 0.0, (w - 2*cx)/w, 0.0],\n",
    "    [0.0, -2*fy/h, (h - 2*cy)/h, 0.0],\n",
    "    [0.0, 0.0, (-far - near) / (far - near), -2.0*far*near/(far-near)],\n",
    "    [0.0, 0.0, -1.0, 0.0]\n",
    "])\n",
    "\n",
    "np.savetxt(fname=os.getcwd() + '/storage/opengl_matrix.txt',X=opengl_mtx, delimiter=',',header='opengl_mtx')\n",
    "\n",
    "output_file = open(os.getcwd() + '/outputs/opengl_output.txt', 'w')\n",
    "output_file.write(str(opengl_mtx) + '\\n\\n')\n",
    "\n",
    "print('OpenCV Matrix')\n",
    "print(camera_mtx, '\\n')\n",
    "print('OpenGL Matrix')\n",
    "print(opengl_mtx, '\\n')\n",
    "print('Image Properties')\n",
    "print('width : ',w)\n",
    "print('height: ',h,'\\n')\n",
    "\n",
    "points = [\n",
    "    # np.array([0.0, 0.0, 1.0]),\n",
    "    # np.array([20.0, 40.0, 100.0]),\n",
    "    # np.array([300.0, 600.0, 1000.0])\n",
    "    np.array([-1.0, -1.0, 10.0]),\n",
    "    np.array([1.0, -1.0, 10.0]),\n",
    "    np.array([1.0, 1.0, 10.0]),\n",
    "    np.array([-1.0, 1.0, 10.0]),\n",
    "]\n",
    "\n",
    "for point in points:\n",
    "   compare_projections(point=point,camera_mtx=camera_mtx,opengl_mtx=opengl_mtx,w=w,h=h)\n",
    "\n"
   ]
  },
  {
   "cell_type": "code",
   "execution_count": 22,
   "metadata": {},
   "outputs": [
    {
     "name": "stdout",
     "output_type": "stream",
     "text": [
      "[643.3134052100459, 929.0138655812523]\n",
      "[738.4101896467614, 929.0138655812523]\n",
      "[738.4101896467614, 1024.0284318456766]\n",
      "[643.3134052100459, 1024.0284318456766]\n",
      "\n",
      "[643.3134052100459, 921.073532005292]\n",
      "[738.4101896467614, 921.073532005292]\n",
      "[738.4101896467614, 1016.0880982697163]\n",
      "[643.3134052100459, 1016.0880982697163]\n"
     ]
    },
    {
     "data": {
      "image/png": "[encoded data removed]",
      "text/plain": [
       "<Figure size 432x288 with 1 Axes>"
      ]
     },
     "metadata": {
      "needs_background": "light"
     },
     "output_type": "display_data"
    }
   ],
   "source": [
    "points = [\n",
    "    # np.array([-0.1, -0.1, 10.0]),\n",
    "    # np.array([0.1, -0.1, 10.0]),\n",
    "    # np.array([0.1, 0.1, 10.0]),\n",
    "    # np.array([-0.1, 0.1, 10.0]),\n",
    "    np.array([0.3, 0.3, 1.0]),\n",
    "    np.array([0.4, 0.3, 1.0]),\n",
    "    np.array([0.4, 0.4, 1.0]),\n",
    "    np.array([0.3, 0.4, 1.0]),\n",
    "]\n",
    "\n",
    "open_cv_projection = project_opencv(points, camera_mtx)\n",
    "open_gl_projection = project_opengl(points, opengl_mtx,w,h)\n",
    "\n",
    "# print(opengl_mtx)\n",
    "\n",
    "print(open_cv_projection[0])\n",
    "print(open_cv_projection[1])\n",
    "print(open_cv_projection[2])\n",
    "print(open_cv_projection[3])\n",
    "print()\n",
    "print(open_gl_projection[0])\n",
    "print(open_gl_projection[1])\n",
    "print(open_gl_projection[2])\n",
    "print(open_gl_projection[3])\n",
    "\n",
    "#Draw Shape \n",
    "\n",
    "\n",
    "coord = open_cv_projection\n",
    "coord.append(open_cv_projection[0]) #repeat the first point to create a 'closed loop'\n",
    "\n",
    "coord1 = open_gl_projection\n",
    "coord1.append(open_gl_projection[0])\n",
    "\n",
    "xs, ys = zip(*open_cv_projection) #create lists of x and y values\n",
    "xs1,ys1 = zip(*open_gl_projection)\n",
    "\n",
    "plt.figure()\n",
    "plt.plot(xs,ys) \n",
    "plt.plot(xs1,ys1) \n",
    "\n",
    "plt.show() # if you need..."
   ]
  }
 ],
 "metadata": {
  "kernelspec": {
   "display_name": "Python 3.9.12 ('base')",
   "language": "python",
   "name": "python3"
  },
  "language_info": {
   "codemirror_mode": {
    "name": "ipython",
    "version": 3
   },
   "file_extension": ".py",
   "mimetype": "text/x-python",
   "name": "python",
   "nbconvert_exporter": "python",
   "pygments_lexer": "ipython3",
   "version": "3.9.12"
  },
  "orig_nbformat": 4,
  "vscode": {
   "interpreter": {
    "hash": "0fb525d995e0958798e36914dbbeebf9776adb9826b1870f56d9f091777d3cbd"
   }
  }
 },
 "nbformat": 4,
 "nbformat_minor": 2
}
