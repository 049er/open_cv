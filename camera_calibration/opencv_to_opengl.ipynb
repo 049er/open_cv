{
 "cells": [
  {
   "cell_type": "code",
   "execution_count": 5,
   "metadata": {},
   "outputs": [],
   "source": [
    "#   Converting Camera Matrix (openCV) to openGl\n",
    "#   Sources:\n",
    "#   http://www.info.hiroshima-cu.ac.jp/~miyazaki/knowledge/teche0092.html\n",
    "#   https://fruty.io/2019/08/29/augmented-reality-with-opencv-and-opengl-the-tricky-projection-matrix/\n",
    "\n",
    "\n",
    "import cv2\n",
    "import numpy as np\n",
    "import math\n",
    "np.set_printoptions(suppress=True,\n",
    "                    formatter={'float_kind': '{:f},'.format})"
   ]
  },
  {
   "cell_type": "code",
   "execution_count": 3,
   "metadata": {},
   "outputs": [],
   "source": [
    "def compare_projections(point, camera_mtx, opengl_mtx):\n",
    "    print(point)\n",
    "    #     \n",
    "    # screen_point, _ = cv2.projectPoints(np.array([point]), np.zeros(3), np.zeros(3), camera_mtx, np.zeros(5))\n",
    "    # print(screen_point)\n",
    "\n",
    "    #Note: we obtain the same result with this: (that's what cv2.projectPoints basically does: multiply points with camera matrix and then divide result by z coord)\n",
    "    open_cv = camera_mtx.dot(point)/point[2]\n",
    "    print(open_cv)\n",
    "\n",
    "\n",
    "    #### OpenGL projection\n",
    "    #we flip the point z coord, because in opengl camera is oriented along -Oz axis\n",
    "    point[2] = -point[2]\n",
    "    point2 = np.hstack([point,1.0]) #we add vertex w coord (usually done in vertex shader before multiplying by projection matrix)\n",
    "    #we get the point in clip space\n",
    "\n",
    "    clip_point = opengl_mtx.dot(point2)\n",
    "\n",
    "    #NOTE: what follows \"simulates\" what happens in OpenGL after the vertex shader.\n",
    "    #This is necessary so that we can make sure our projection matrix will yield the correct result when used in OpenGL\n",
    "    #we get the point in NDC\n",
    "\n",
    "    ndc_point = clip_point / clip_point[3]\n",
    "    #we get the screen coordinates\n",
    "    viewport_point = (ndc_point + 1.0)/2.0 * np.array([w, h, 1.0, 1.0])\n",
    "    #opencv Oy convention is opposite of OpenGL so we reverse y coord\n",
    "    viewport_point[1] = h - viewport_point[1]\n",
    "    \n",
    "    print(viewport_point)\n",
    "    print()\n",
    "    \n",
    "    "
   ]
  },
  {
   "cell_type": "code",
   "execution_count": 17,
   "metadata": {},
   "outputs": [
    {
     "name": "stdout",
     "output_type": "stream",
     "text": [
      "OpenCV Matrix\n",
      "[[3549.288187, 0.000000, 1724.224632,]\n",
      " [0.000000, 3551.909378, 2289.571598,]\n",
      " [0.000000, 0.000000, 1.000000,]] \n",
      "\n",
      "OpenGL Matrix\n",
      "[[2.044521, 0.000000, 0.006783, 0.000000,]\n",
      " [0.000000, -1.536293, 0.009701, 0.000000,]\n",
      " [0.000000, 0.000000, -1.105263, -2.105263,]\n",
      " [0.000000, 0.000000, -1.000000, 0.000000,]] \n",
      "\n",
      "Image Properties\n",
      "width :  3472.0\n",
      "height:  4624.0 \n",
      "\n",
      "[1.000000, 2.000000, 15.000000,]\n",
      "[1960.843845, 2763.159515, 1.000000,]\n",
      "[1960.843845, 2808.016319, 0.982456, 1.000000,]\n",
      "\n",
      "[20.000000, 40.000000, 100.000000,]\n",
      "[2434.082269, 3710.335350, 1.000000,]\n",
      "[2434.082269, 3755.192153, 1.042105, 1.000000,]\n",
      "\n",
      "[300.000000, 600.000000, 1000.000000,]\n",
      "[2789.011088, 4420.717225, 1.000000,]\n",
      "[2789.011088, 4465.574029, 1.051579, 1.000000,]\n",
      "\n"
     ]
    }
   ],
   "source": [
    "# Camera Matrix (OpenCV)\n",
    "camera_mtx = np.loadtxt(fname='camera_matrix.txt', delimiter=',')\n",
    "info =  np.loadtxt(fname='image_info.txt', delimiter=',')\n",
    "\n",
    "cx = camera_mtx[0][2]\n",
    "cy = camera_mtx[1][2]\n",
    "\n",
    "fx = camera_mtx[0][0]\n",
    "fy = camera_mtx[1][1]\n",
    "\n",
    "w = info[0]\n",
    "h = info[1]\n",
    "\n",
    "near = 1\n",
    "far = 20\n",
    "\n",
    "opengl_mtx = np.array([\n",
    "    [2*fx/w, 0.0, (w - 2*cx)/w, 0.0],\n",
    "    [0.0, -2*fy/h, (h - 2*cy)/h, 0.0],\n",
    "    [0.0, 0.0, (-far - near) / (far - near), -2.0*far*near/(far-near)],\n",
    "    [0.0, 0.0, -1.0, 0.0]\n",
    "])\n",
    "\n",
    "print('OpenCV Matrix')\n",
    "print(camera_mtx, '\\n')\n",
    "print('OpenGL Matrix')\n",
    "print(opengl_mtx, '\\n')\n",
    "print('Image Properties')\n",
    "print('width : ',w)\n",
    "print('height: ',h,'\\n')\n",
    "\n",
    "points = [\n",
    "    np.array([1.0, 2.0, 15.0]),\n",
    "    np.array([20.0, 40.0, 100.0]),\n",
    "    np.array([300.0, 600.0, 1000.0])\n",
    "]\n",
    "\n",
    "for point in points:\n",
    "   compare_projections(point=point,camera_mtx=camera_mtx,opengl_mtx=opengl_mtx)\n",
    "\n"
   ]
  }
 ],
 "metadata": {
  "kernelspec": {
   "display_name": "Python 3.9.12 ('base')",
   "language": "python",
   "name": "python3"
  },
  "language_info": {
   "codemirror_mode": {
    "name": "ipython",
    "version": 3
   },
   "file_extension": ".py",
   "mimetype": "text/x-python",
   "name": "python",
   "nbconvert_exporter": "python",
   "pygments_lexer": "ipython3",
   "version": "3.9.12"
  },
  "orig_nbformat": 4,
  "vscode": {
   "interpreter": {
    "hash": "0fb525d995e0958798e36914dbbeebf9776adb9826b1870f56d9f091777d3cbd"
   }
  }
 },
 "nbformat": 4,
 "nbformat_minor": 2
}
